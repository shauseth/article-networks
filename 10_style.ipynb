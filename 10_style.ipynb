{
 "cells": [
  {
   "cell_type": "markdown",
   "metadata": {},
   "source": [
    "**Purpose:** Change network graph style."
   ]
  },
  {
   "cell_type": "code",
   "execution_count": 1,
   "metadata": {},
   "outputs": [],
   "source": [
    "import string\n",
    "import numpy as np\n",
    "import networkx as nx\n",
    "import pubmed_parser as pp\n",
    "import matplotlib.pyplot as plt\n",
    "from itertools import combinations\n",
    "from tqdm.notebook import tqdm"
   ]
  },
  {
   "cell_type": "code",
   "execution_count": 2,
   "metadata": {},
   "outputs": [],
   "source": [
    "pmids = [26016486, 25749135, 28828194, 27904610, 20974411]"
   ]
  },
  {
   "cell_type": "code",
   "execution_count": 3,
   "metadata": {},
   "outputs": [],
   "source": [
    "def get_article(pmid):\n",
    "    article = pp.parse_xml_web(pmid, sleep = 1)\n",
    "    return article"
   ]
  },
  {
   "cell_type": "code",
   "execution_count": 4,
   "metadata": {},
   "outputs": [
    {
     "data": {
      "application/vnd.jupyter.widget-view+json": {
       "model_id": "db2b7ba2fd3e4e94a1dd75e2a9f72aea",
       "version_major": 2,
       "version_minor": 0
      },
      "text/plain": [
       "HBox(children=(FloatProgress(value=0.0, max=5.0), HTML(value='')))"
      ]
     },
     "metadata": {},
     "output_type": "display_data"
    },
    {
     "name": "stdout",
     "output_type": "stream",
     "text": [
      "\n"
     ]
    }
   ],
   "source": [
    "articles = [get_article(pmid) for pmid in tqdm(pmids)]"
   ]
  },
  {
   "cell_type": "code",
   "execution_count": 5,
   "metadata": {},
   "outputs": [],
   "source": [
    "def print_article(article):\n",
    "    print(article['title'])\n",
    "    print(article['authors'])\n",
    "    print(article['journal'])\n",
    "    print('https://www.ncbi.nlm.nih.gov/pubmed/' + article['pmid'])"
   ]
  },
  {
   "cell_type": "code",
   "execution_count": 6,
   "metadata": {},
   "outputs": [],
   "source": [
    "def get_keys(article):\n",
    "    key_list = []\n",
    "    for key in article['keywords'].split(';'):\n",
    "        if ':' in key:\n",
    "            key = key.split(':')[1]\n",
    "            key_list.append(key)\n",
    "        else:\n",
    "            key_list.append(key)\n",
    "    keys = tokenize(' '.join(key_list))\n",
    "    return keys"
   ]
  },
  {
   "cell_type": "code",
   "execution_count": 7,
   "metadata": {},
   "outputs": [],
   "source": [
    "def tokenize(words):\n",
    "    words = words.lower()\n",
    "    words = words.translate(str.maketrans('', '', string.punctuation))\n",
    "    tokens = np.array(words.split())\n",
    "    return tokens"
   ]
  },
  {
   "cell_type": "code",
   "execution_count": 8,
   "metadata": {},
   "outputs": [],
   "source": [
    "def common(arr1, arr2):\n",
    "    score = len(np.intersect1d(arr1, arr2))\n",
    "    return score"
   ]
  },
  {
   "cell_type": "code",
   "execution_count": 9,
   "metadata": {},
   "outputs": [],
   "source": [
    "def similarity(article1, article2):\n",
    "    \n",
    "    keyword_arr1 = get_keys(article1)\n",
    "    keyword_arr2 = get_keys(article2)\n",
    "    keyword_ss = common(keyword_arr1, keyword_arr2) * 1000\n",
    "\n",
    "    title_arr1 = tokenize(article1['title'])\n",
    "    title_arr2 = tokenize(article2['title'])\n",
    "    abstract_arr1 = tokenize(article1['abstract'])\n",
    "    abstract_arr2 = tokenize(article2['abstract'])\n",
    "\n",
    "    k1t2 = common(keyword_arr1, title_arr2)\n",
    "    k2t1 = common(keyword_arr2, title_arr1)\n",
    "    k1a2 = common(keyword_arr1, abstract_arr2)\n",
    "    k2a1 = common(keyword_arr2, abstract_arr1)\n",
    "\n",
    "    cross_arr = np.array([k1t2, k2t1, k1a2, k2a1])\n",
    "    cross_weights = np.array([10, 10, 1, 1])\n",
    "    cross_ss = np.dot(cross_arr, cross_weights)\n",
    "    \n",
    "    return keyword_ss, cross_ss"
   ]
  },
  {
   "cell_type": "code",
   "execution_count": 11,
   "metadata": {},
   "outputs": [],
   "source": [
    "index = list(range(1, len(pmids) + 1))\n",
    "keyword, cross = [], []\n",
    "\n",
    "G = nx.Graph()\n",
    "G.add_nodes_from(index)\n",
    "\n",
    "for x, y in list(combinations(index, 2)):\n",
    "    \n",
    "    article1 = articles[x - 1]\n",
    "    article2 = articles[y - 1]\n",
    "    \n",
    "    k, c = similarity(article1, article2)\n",
    "    \n",
    "    if k != 0:\n",
    "        keyword.append([x, y])\n",
    "        G.add_edge(x, y, weight = k)\n",
    "        \n",
    "    if (k == 0) and (c != 0):\n",
    "        cross.append([x, y])\n",
    "        G.add_edge(x, y, weight = c)"
   ]
  },
  {
   "cell_type": "code",
   "execution_count": 10,
   "metadata": {
    "scrolled": false
   },
   "outputs": [
    {
     "name": "stdout",
     "output_type": "stream",
     "text": [
      "1\n",
      "Staphylococcus aureus infections: epidemiology, pathophysiology, clinical manifestations, and management.\n",
      "Steven Y C Tong; Joshua S Davis; Emily Eichenberger; Thomas L Holland; Vance G Fowler\n",
      "Clinical microbiology reviews\n",
      "https://www.ncbi.nlm.nih.gov/pubmed/26016486\n",
      "\n",
      "2\n",
      "Pathogenesis of Staphylococcus aureus abscesses.\n",
      "Scott D Kobayashi; Natalia Malachowa; Frank R DeLeo\n",
      "The American journal of pathology\n",
      "https://www.ncbi.nlm.nih.gov/pubmed/25749135\n",
      "\n",
      "3\n",
      "Phage therapy: An alternative to antibiotics in the age of multi-drug resistance.\n",
      "Derek M Lin; Britt Koskella; Henry C Lin\n",
      "World journal of gastrointestinal pharmacology and therapeutics\n",
      "https://www.ncbi.nlm.nih.gov/pubmed/28828194\n",
      "\n",
      "4\n",
      "Effects of air pollution on human health and practical measures for prevention in Iran.\n",
      "Adel Ghorani-Azam; Bamdad Riahi-Zanjani; Mahdi Balali-Mood\n",
      "Journal of research in medical sciences : the official journal of Isfahan University of Medical Sciences\n",
      "https://www.ncbi.nlm.nih.gov/pubmed/27904610\n",
      "\n",
      "5\n",
      "Essentials of healthy eating: a guide.\n",
      "Patrick J Skerrett; Walter C Willett\n",
      "Journal of midwifery & women's health\n",
      "https://www.ncbi.nlm.nih.gov/pubmed/20974411\n",
      "\n"
     ]
    }
   ],
   "source": [
    "for i, article in enumerate(articles):\n",
    "    print(i + 1)\n",
    "    print_article(article)\n",
    "    print('')"
   ]
  },
  {
   "cell_type": "code",
   "execution_count": 55,
   "metadata": {},
   "outputs": [
    {
     "data": {
      "image/png": "[encoded data removed]",
      "text/plain": [
       "<Figure size 432x432 with 1 Axes>"
      ]
     },
     "metadata": {},
     "output_type": "display_data"
    }
   ],
   "source": [
    "pos = nx.spring_layout(G)\n",
    "plt.figure(figsize = (6, 6), facecolor = 'white')\n",
    "\n",
    "nx.draw_networkx_nodes(G, pos, node_color = 'lightsteelblue', node_size = 1800, linewidths = 5, edgecolors = 'white')\n",
    "nx.draw_networkx_edges(G, pos, edgelist = keyword, width = 2, alpha = 0.8)\n",
    "nx.draw_networkx_edges(G, pos, edgelist = cross, width = 2, alpha = 0.2, style = 'dashed')\n",
    "nx.draw_networkx_labels(G, pos, font_size = 20, font_family = 'sans-serif', font_color = 'white')\n",
    "\n",
    "plt.axis('off')\n",
    "plt.show()"
   ]
  },
  {
   "cell_type": "code",
   "execution_count": null,
   "metadata": {},
   "outputs": [],
   "source": []
  }
 ],
 "metadata": {
  "kernelspec": {
   "display_name": "Python 3",
   "language": "python",
   "name": "python3"
  },
  "language_info": {
   "codemirror_mode": {
    "name": "ipython",
    "version": 3
   },
   "file_extension": ".py",
   "mimetype": "text/x-python",
   "name": "python",
   "nbconvert_exporter": "python",
   "pygments_lexer": "ipython3",
   "version": "3.7.3"
  }
 },
 "nbformat": 4,
 "nbformat_minor": 2
}
