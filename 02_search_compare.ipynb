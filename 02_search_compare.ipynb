{
 "cells": [
  {
   "cell_type": "markdown",
   "metadata": {},
   "source": [
    "**Purpose:** Get search results for query."
   ]
  },
  {
   "cell_type": "code",
   "execution_count": 1,
   "metadata": {},
   "outputs": [],
   "source": [
    "from Bio import Entrez\n",
    "import json"
   ]
  },
  {
   "cell_type": "code",
   "execution_count": 2,
   "metadata": {},
   "outputs": [],
   "source": [
    "Entrez.email = 'sseth@ualberta.ca'"
   ]
  },
  {
   "cell_type": "code",
   "execution_count": 3,
   "metadata": {},
   "outputs": [],
   "source": [
    "query = 'staph'"
   ]
  },
  {
   "cell_type": "code",
   "execution_count": 4,
   "metadata": {},
   "outputs": [],
   "source": [
    "def search(term):\n",
    "    handle = Entrez.esearch(db = 'pubmed', term = term, sort = 'relevance')\n",
    "    results = Entrez.read(handle)\n",
    "    handle.close()\n",
    "    id_list = results['IdList']\n",
    "    return id_list"
   ]
  },
  {
   "cell_type": "code",
   "execution_count": 5,
   "metadata": {},
   "outputs": [],
   "source": [
    "def article(id_list):\n",
    "    fetched = Entrez.efetch(db = 'pubmed', id = id_list, retmode = 'xml')\n",
    "    articles = Entrez.read(fetched)['PubmedArticle']\n",
    "    return articles"
   ]
  },
  {
   "cell_type": "code",
   "execution_count": 6,
   "metadata": {},
   "outputs": [],
   "source": [
    "def pretty(paper):\n",
    "    pretty = json.dumps(paper, indent = 4, separators = (',', ':'))\n",
    "    print(pretty)"
   ]
  },
  {
   "cell_type": "code",
   "execution_count": 7,
   "metadata": {},
   "outputs": [],
   "source": [
    "id_list = search(query)\n",
    "articles = article(id_list)"
   ]
  },
  {
   "cell_type": "code",
   "execution_count": 8,
   "metadata": {
    "scrolled": true
   },
   "outputs": [
    {
     "name": "stdout",
     "output_type": "stream",
     "text": [
      "Vet Dermatol\n",
      "Recommendations for approaches to meticillin-resistant staphylococcal infections of small animals: diagnosis, therapeutic considerations and preventative measures.: Clinical Consensus Guidelines of the World Association for Veterinary Dermatology.\n",
      "Morris Daniel O, Loeffler Anette, Davis Meghan F, Guardabassi Luca and Weese J Scott\n",
      "PMID: 28516494\n",
      "Abstract: Multiple drug resistance (MDR) in staphylococci, including resistance to the semi-synthetic penicillinase-resistant penicillins such as meticillin, is a problem of global proportions that presents serious challenges to the successful treatment of staphylococcal infections of companion animals.\n",
      "\n",
      "J Pediatr Hematol Oncol\n",
      "Pediatric Deep Venous Thrombosis Associated With Staphylococcal Infections: Single Institutional Experience.\n",
      "Citla Sridhar Divyaswathi, Maher Ossama M and Rodriguez Nidra I\n",
      "PMID: 29200147\n",
      "Abstract: Deep venous thrombosis (DVT) has been previously reported in children with methicillin-resistant Staphylococcus aureus (MRSA). This study reviews our institutional experience by evaluating characteristics and outcomes of children with DVT and staphylococcal infections. Retrospective clinical data from 16 pediatric patients with DVT and staphylococcal infections over a 5-year period was obtained via medical record abstraction. Sixteen patients with a median age at diagnosis of 8 years were included. The most common infection encountered was osteomyelitis (56%). The most common isolated organism was MRSA (63%). Central venous catheters were present in 50% of cases. All patients received anticoagulation with low molecular weight heparin except 1 patient with superficial venous thrombosis who was managed conservatively. Fifty percent of patients had complete resolution of DVT by the end of treatment, 25% of the patients had early disappearance of the thrombus at 7 to 10 days. Only 2 patients (12.5%) had persistent thrombus at 6 months. Staphylococcal infections may increase the risk of DVT in children. Therefore, a high index of suspicion for DVT is warranted in children with Staphylococcal infections (particularly MRSA) to promptly diagnose, treat and minimize complications. Prophylactic anticoagulation in presence of staphylococcal infection, particularly MRSA, may be considered in future studies.\n",
      "\n",
      "J Med Chem\n",
      "Python Cathelicidin CATHPb1 Protects against Multidrug-Resistant Staphylococcal Infections by Antimicrobial-Immunomodulatory Duality.\n",
      "Cai Shasha, Qiao Xue, Feng Lan, Shi Nannan, Wang Hui, Yang Huaixin, Guo Zhilai, Wang Mengke, Chen Yan, Wang Yipeng and Yu Haining\n",
      "PMID: 29466000\n",
      "Abstract: Multidrug-resistant Staphylococcus aureus, including MRSA (methicillin-resistant) and VRSA (vancomycin-resistant), causes serious healthcare-associated infections, even sepsis and death. Here, we identified six novel cathelicidins (CATHPb1-6) from Python bivittatu, and CATHPb1 displayed the best in vitro pharmacological and toxicological profile. We further show that CATHPb1 exhibited evident protection in mice MRSA/VRSA infection models, given either 24 h before or 4 h after infection. The protection was all effective through different administration routes, but was blocked by in vivo depletion of monocyte/macrophages or neutrophils. CATHPb1 can rapidly and massively modulate macrophages/monocytes and neutrophils trafficking to the infection site, and potentiate their bactericidal functions. Meanwhile, CATHPb1 remarkably augmented neutrophil-mediated bacteria killing by facilitating neutrophil extracellular traps (NETs) formation and preventing its degradation. Acting through MAPKs and NF-κB pathways, CATHPb1 selectively enhanced the levels of chemokines while reducing the production of pro-inflammatory cytokines without undesirable toxicities. The much improved serum half-life and stabilities confer CATHPb1 an excellent prospect to become a novel therapeutic agent against multidrug-resistant staphylococcal infections.\n",
      "\n",
      "Microbiol Spectr\n",
      "Fulminant Staphylococcal Infections.\n",
      "Gillet Yves, Henry Thomas and Vandenesch Francois\n",
      "PMID: 30291703\n",
      "Abstract: Fulminant staphylococcal infection indicates an explosive, intense, and severe infection occurring in a patient whose previous condition and antecedent would never have caused any anticipation of life-threatening development. This includes necrotizing pneumonia, necrotizing fasciitis, and to some extent toxic shock syndrome and infective endocarditis. In the three former diseases, toxin production plays a major role whereas in the latter (fulminant presentation of infective endocarditis), association with any particular toxinic profile has never been demonstrated. This article reviews the clinical, pathophysiological, and therapeutic aspects of these diseases.\n",
      "\n",
      "Pediatr Infect Dis J\n",
      "Should First-line Empiric Treatment Strategies for Neonates Cover Coagulase-negative Staphylococcal Infections in Kenya?\n",
      "Seale Anna C, Obiero Christina W, Jones Kelsey D, Barsosio Hellen C, Thitiri Johnstone, Ngari Moses, Morpeth Susan, Mohammed Shebe, Fegan Gregory, Mturi Neema and Berkley James A\n",
      "PMID: 28731901\n",
      "Abstract: Neonatal mortality remains high in sub-Saharan Africa, and a third of deaths are estimated to result from infection. While coagulase-negative staphylococci (CoNS) are leading neonatal pathogens in resource-rich settings, their role, and the need for early anti-Staphylococcal treatment in empiric antibiotic guidelines, is unknown in sub-Saharan Africa.\n",
      "\n",
      "Emerg Infect Dis\n",
      "Staphylococcal infections in children, California, USA, 1985-2009.\n",
      "Gutierrez Kathleen, Halpern Meira S, Sarnquist Clea, Soni Shila, Arroyo Anna Chen and Maldonado Yvonne\n",
      "PMID: 23260060\n",
      "Abstract: We conducted a retrospective, observational, population-based study to investigate the effect of staphylococcal infections on the hospitalization of children in California during 1985-2009. Hospitalized children with staphylococcal infections were identified through the California Office of Statewide Health Planning and Development discharge database. Infections were categorized as community onset, community onset health care-associated, or hospital onset. Infection incidence was calculated relative to all children and to those hospitalized in acute-care facilities. A total of 140,265 records were analyzed. Overall incidence increased from 49/100,000 population in 1985 to a peak of 83/100,000 in 2006 and dropped to 73/100,000 in 2009. Staphylococcal infections were associated with longer hospital stays and higher risk for death relative to all-cause hospitalizations of children. The number of methicillin-resistant Staphylococcus aureus infections increased, and the number of methicillin-susceptible S. aureus infections remained unchanged. Children <3 years of age, Blacks, and those without private insurance were at higher risk for hospitalization.\n",
      "\n",
      "Infect Immun\n",
      "Four-component Staphylococcus aureus vaccine 4C-staph enhances Fcγ receptor expression in neutrophils and monocytes and mitigates S. aureus infection in neutropenic mice.\n",
      "Torre Antonina, Bacconi Marta, Sammicheli Chiara, Galletti Bruno, Laera Donatello, Fontana Maria Rita, Grandi Guido, De Gregorio Ennio, Bagnoli Fabio, Nuti Sandra, Bertholet Sylvie and Bensi Giuliano\n",
      "PMID: 26015481\n",
      "Abstract: Staphylococcus aureus is a human bacterial pathogen causing a variety of diseases. The occurrence of multidrug-resistant strains of Staphylococcus aureus underlines the need for a vaccine. Defining immune correlates of protection may support the design of an effective vaccine. We used a murine Staphylococcus aureus infection model, in which bacteria were inoculated in an air pouch generated on the back of the animal. Analysis of the air-pouch content in mice immunized or not with an adjuvanted multiantigen vaccine formulation, four-component S. aureus vaccine (4C-Staph), prior to infection allowed us to measure bacteria, cytokines, and 4C-Staph-specific antibodies and to analyze host immune cells recruited to the infection site. Immunization with 4C-Staph resulted in accumulation of antigen-specific antibodies in the pouch and mitigated the infection. Neutrophils were the most abundant cells in the pouch, and they showed the upregulation of Fcγ receptor (FcγR) following immunization with 4C-Staph. Reduction of the infection was also obtained in mice immunized with 4C-Staph and depleted of neutrophils; these mice showed an increase in monocytes and macrophages. Upregulation of the FcγR and the presence of antigen-specific antibodies induced by immunization with 4C-Staph may contribute to increase bacterial opsonophagocytosis. Protection in neutropenic mice indicated that an effective vaccine could activate alternative protection mechanisms compensating for neutropenia, a condition often occurring in S. aureus-infected patients. \n",
      "\n",
      "Curr Pharm Des\n",
      "Antimicrobial peptides and peptidomimetics - potent therapeutic allies for staphylococcal infections.\n",
      "Mohammad Haroon, Thangamani Shankar and Seleem Mohamed N\n",
      "PMID: 25760338\n",
      "Abstract: The pervasiveness of bacterial resistance to conventional antibiotics, particularly those associated with staphylococcal infections, has become a global epidemic. However, research involving antimicrobial peptides (AMPs) and their synthetic analogues has unearthed a potentially novel class of antibacterials for the treatment of an array of diseases caused by pathogenic bacteria, such as staphylococci. AMPs have several unique advantages over traditional antibiotics such as the projected slow emergence of bacterial resistance to these agents and their capability to modulate the host immune response to infection. Unfortunately, their susceptibility to proteolytic degradation, loss of antimicrobial activity due to serum binding or physiological concentration of salts, and toxicity to host tissues has limited their use as systemic agents thus far. Additionally, the presence of economic and regulatory obstacles has hindered the translation of AMPs, as antimicrobials, from the bench to the clinic. The present review delves further into the benefits and challenges of utilizing AMPs as antibacterial agents (particularly for staphylococcal infections), the methods which have been utilized to overcome their limitations, their successes and failures in clinical trials, and future avenues for researchers to pursue to develop AMPs as novel therapeutic allies in the treatment of bacterial infections.\n",
      "\n",
      "J Dairy Sci\n",
      "Staphylococcus aureus induces autophagy in bovine mammary epithelial cells and the formation of autophagosomes facilitates intracellular replication of Staph. aureus.\n",
      "Wang Heng, Zhou Yuqi, Zhu Qicheng, Zang Haozhe, Cai Juan, Wang Jianqiang, Cui Luying, Meng Xia, Zhu Guoqiang and Li Jianji\n",
      "PMID: 31255277\n",
      "Abstract: Staphylococcus aureus is an important pathogen causing chronic and subclinical mastitis of cows. Autophagy is an important regulatory mechanism that participates in the elimination of invading pathogenic organisms. Here, we hypothesize that autophagy is involved in the process of Staph. aureus survival in bovine mammary epithelial cells (BMEC). In this study, we detected the expression of autophagy-related proteins during infection and assessed the effect of autophagosome formation and degradation on the proliferation of intracellular Staph. aureus. Infection with Staph. aureus increased the protein expression of microtubule-associated protein 1 light chain 3-II (MAP1LC3, also called LC3-II) and sequestosome-1 (SQSTM1, also called p62) in BMEC. After infection, the formation of the autophagosomes increased but the autophagosomes and lysosomes could not fuse normally to form autolysosomes. When the formation of the autophagosomes was enhanced or the degradation of the autolysosomes was inhibited, the number of Staph. aureus in the BMEC increased. However, the intracellular proliferation of Staph. aureus was slowed when formation of autophagosomes was inhibited. Therefore, autophagy was induced in BMEC challenged by Staph. aureus but the autophagic flux was obstructed. Inhibiting the formation of autophagosomes in BMEC facilitated the clearance of intracellular Staph. aureus, which may offer a new strategy for the treatment of mastitis in cows.\n",
      "\n",
      "Indian Pediatr\n",
      "Antibiotic Sensitivity and Clinico- epidemiological Profile of Staphylococcal Infections.\n",
      "Mahapatra Manas Kumar, Mukherjee Devdeep, Poddar Sumon and Kundu Ritabrata\n",
      "PMID: 27771679\n",
      "Abstract: This hospital-based study describes the antibiotic sensitivity of 66 S. aureus isolates from the admitted children (age 0-18 y) in a tertiary hospital of Kolkata, India. Methicillin-resistant S. aureus constituted 16.7% (n=11) of the isolates. Clindamycin-resistance was observed in 60% and 82% of methicillin-sensitive and methicillin-resistant strains, respectively.\n",
      "\n",
      "Sci Rep\n",
      "Repurposing ebselen for treatment of multidrug-resistant staphylococcal infections.\n",
      "Thangamani Shankar, Younis Waleed and Seleem Mohamed N\n",
      "PMID: 26111644\n",
      "Abstract: Novel antimicrobials and new approaches to developing them are urgently needed. Repurposing already-approved drugs with well-characterized toxicology and pharmacology is a novel way to reduce the time, cost, and risk associated with antibiotic innovation. Ebselen, an organoselenium compound, is known to be clinically safe and has a well-known pharmacology profile. It has shown potent bactericidal activity against multidrug-resistant clinical isolates of staphylococcus aureus, including methicillin- and vancomycin-resistant S. aureus (MRSA and VRSA). We demonstrated that ebselen acts through inhibition of protein synthesis and subsequently inhibited toxin production in MRSA. Additionally, ebselen was remarkably active and significantly reduced established staphylococcal biofilms. The therapeutic efficacy of ebselen was evaluated in a mouse model of staphylococcal skin infections. Ebselen 1% and 2% significantly reduced the bacterial load and the levels of the pro-inflammatory cytokines tumor necrosis factor-α (TNF-α), interleukin-6 (IL-6), interleukin-1 beta (IL-1β), and monocyte chemo attractant protein-1 (MCP-1) in MRSA USA300 skin lesions. Furthermore, it acts synergistically with traditional antimicrobials. This study provides evidence that ebselen has great potential for topical treatment of MRSA skin infections and lays the foundation for further analysis and development of ebselen as a potential treatment for multidrug-resistant staphylococcal infections. \n",
      "\n",
      "PLoS One\n",
      "One Dose of Staphylococcus aureus 4C-Staph Vaccine Formulated with a Novel TLR7-Dependent Adjuvant Rapidly Protects Mice through Antibodies, Effector CD4+ T Cells, and IL-17A.\n",
      "Mancini Francesca, Monaci Elisabetta, Lofano Giuseppe, Torre Antonina, Bacconi Marta, Tavarini Simona, Sammicheli Chiara, Arcidiacono Letizia, Galletti Bruno, Laera Donatello, Pallaoro Michele, Tuscano Giovanna, Fontana Maria Rita, Bensi Giuliano, Grandi Guido, Rossi-Paccani Silvia, Nuti Sandra, Rappuoli Rino, De Gregorio Ennio, Bagnoli Fabio, Soldaini Elisabetta and Bertholet Sylvie\n",
      "PMID: 26812180\n",
      "Abstract: A rapidly acting, single dose vaccine against Staphylococcus aureus would be highly beneficial for patients scheduled for major surgeries or in intensive care units. Here we show that one immunization with a multicomponent S. aureus candidate vaccine, 4C-Staph, formulated with a novel TLR7-dependent adjuvant, T7-alum, readily protected mice from death and from bacterial dissemination, both in kidney abscess and peritonitis models, outperforming alum-formulated vaccine. This increased efficacy was paralleled by higher vaccine-specific and α-hemolysin-neutralizing antibody titers and Th1/Th17 cell responses. Antibodies played a crucial protective role, as shown by the lack of protection of 4C-Staph/T7-alum vaccine in B-cell-deficient mice and by serum transfer experiments. Depletion of effector CD4+ T cells not only reduced survival but also increased S. aureus load in kidneys of mice immunized with 4C-Staph/T7-alum. The role of IL-17A in the control of bacterial dissemination in 4C-Staph/T7-alum vaccinated mice was indicated by in vivo neutralization experiments. We conclude that single dose 4C-Staph/T7-alum vaccine promptly and efficiently protected mice against S. aureus through the combined actions of antibodies, CD4+ effector T cells, and IL-17A. These data suggest that inclusion of an adjuvant that induces not only fast antibody responses but also IL-17-producing cell-mediated effector responses could efficaciously protect patients scheduled for major surgeries or in intensive care units. \n",
      "\n",
      "Pediatr Clin North Am\n",
      "New Antimicrobial Agents for the Treatment of Staphylococcal Infections in Children.\n",
      "Sharma Roopali, Francois Densley and Hammerschlag Margaret R\n",
      "PMID: 29173791\n",
      "Abstract: Several new antimicrobial agents-daptomycin, ceftaroline, telavancin, dalbavancin, and-tedizolid have been approved for the treatment of staphylococcal infections, including methicillin-resistant Staphylococcus aureus (MRSA), in adults. Ceftaroline and daptomycin have been approved by the US Food and Drug Administration for use in children. Ceftaroline, a beta-lactam antibiotic with activity against MRSA, has been approved for treatment of community-acquired bacterial pneumonia and complicated skin and skin structure infections. Daptomycin has been approved for treatment of complicated skin and skin structure infections. In this article, we review the pharmacokinetics and pharmacodynamics of these antibiotics and available data on use in children.\n",
      "\n",
      "Infect Control Hosp Epidemiol\n",
      "Effect of Intranasal Mupirocin Prophylaxis on Methicillin-Resistant Staphylococcus aureus Transmission and Invasive Staphylococcal Infections in a Neonatal Intensive Care Unit.\n",
      "Ristagno Elizabeth H, Bryant Kristina A, Boland Lynette F, Stout Gordon G, Junkins Alan D, Woods Charles R, Myers John A and Espinosa Claudia M\n",
      "PMID: 29606181\n",
      "Abstract: The use of monthly intranasal mupirocin was associated with a significant reduction in the rate of methicillin-resistant Staphylococcus aureus transmission and Staphylococcus aureus invasive infection in a large neonatal intensive care unit. Resistance to mupirocin emerged over time, but it was rare and was not associated with adverse clinical outcomes.Infect Control Hosp Epidemiol 2018;39:741-745.\n",
      "\n",
      "PLoS One\n",
      "Mupirocin in the Treatment of Staphylococcal Infections in Chronic Rhinosinusitis: A Meta-Analysis.\n",
      "Kim Jong Seung and Kwon Sam Hyun\n",
      "PMID: 27907108\n",
      "Abstract: Saline irrigation of the nasal cavity is a classic and effective treatment for acute or chronic rhinosinusitis. Topical antibiotics such as mupirocin have been widely used for recalcitrant chronic rhinosinusitis. Therefore, the purpose of this study was to evaluate the effect of saline irrigation using mupirocin.\n",
      "\n",
      "Expert Rev Vaccines\n",
      "Staphylococcal vaccine development: review of past failures and plea for a future evaluation of vaccine efficacy not only on staphylococcal infections but also on mucosal carriage.\n",
      "Botelho-Nevers Elisabeth, Verhoeven Paul, Paul Stephane, Grattard Florence, Pozzetto Bruno, Berthelot Philippe and Lucht Frederic\n",
      "PMID: 24111513\n",
      "Abstract: Staphylococcal disease represents a universal burden including acute, life-threatening infections as well as chronic infections usually associated with foreign materials. Infections occur notably in permanent carriers of Staphylococcus aureus. To date, all the attempts to develop an efficacious vaccine against S. aureus have failed. Failures in vaccine clinical trials might be related to a focus on single targets and development of humoral-based vaccines rather than vaccines with a combination of antigens stimulating both humoral and cellular immunity. The end points of these unsuccessful trials were a reduction in mortality or bacteremia, whereas the patient's decolonization was not assessed. Adopting the latter point of view, the aim of this article is to discuss nasal mucosal decolonization as a complementary marker of vaccine efficacy for clinical research in vaccine development. \n",
      "\n",
      "PLoS One\n",
      "Should first-line empiric treatment strategies cover coagulase-negative staphylococcal infections in severely malnourished or HIV-infected children in Kenya?\n",
      "Obiero Christina W, Seale Anna C, Jones Kelsey, Ngari Moses, Bendon Charlotte L, Morpeth Susan, Mohammed Shebe, Mturi Neema, Fegan Greg and Berkley James A\n",
      "PMID: 28787002\n",
      "Abstract: Bloodstream infection is a common cause of morbidity in children aged <5 years in developing countries. In studies reporting bacteremia in Africa, coagulase-negative Staphylococci (CoNS) are commonly isolated. However, it is currently unclear whether children who are highly susceptible to infection because of severe acute malnutrition (SAM) or HIV should be treated with antimicrobials specifically to cover CoNS. We aimed to determine the clinical significance of CoNS amongst children admitted to a rural hospital in Kenya in relation to nutritional and HIV status.\n",
      "\n",
      "Arch Pediatr\n",
      "[Life-threatening Panton-Valentine leukocidin-associated staphylococcal infections in children. A broad spectrum of clinical presentations].\n",
      "Gillet-Vittori L, Afanetti M, Dupont A, Gondon E and Dupont D\n",
      "PMID: 25284731\n",
      "Abstract: Panton-Valentine leukocidin (PVL) is a major toxic virulence factor secreted by community-acquired methicillin-sensitive or methicillin-resistant Staphylococcus aureus (SA). SA-PVL can be responsible for life-threatening infections in healthy children with a wide spectrum of clinical presentations involving lung, skin, and soft tissues or bones and joints. PVL production should always be considered in severe SA infections. The pediatric medicine community remains poorly informed regarding the therapeutic management of this infection, which should be early and aggressive. Intravenous empiric antibiotics against SA and its toxins must be given with early and sometimes iterative surgical procedures to drain abscesses and to stop bacterial proliferation and necrosis in the tissues. Here, we report the cases of three patients admitted for SA-PVL infections to the pediatric intensive care unit. Initial clinical presentation in the three patients was multifocal osteomyelitis associated with necrotizing pneumonia; severe skin infection with septic shock; and non-necrotic pneumonia with pleural and pericardial effusion. Appropriate treatments resulted in a good outcome in all cases. Following these illustrations, we describe a number of practical key points in the optimal medical and surgical management of severe SA-PVL infections, with a review of the literature. \n",
      "\n",
      "Clin Perinatol\n",
      "Staphylococcal infections in infants: updates and current challenges.\n",
      "Blanchard Ana C, Quach Caroline and Autmizguine Julie\n",
      "PMID: 25678000\n",
      "Abstract: Staphylococci are common pathogens in the neonatal period. Increased survival of premature infants leads to prolonged hospital stay with associated risk factors for developing invasive staphylococcal disease. Challenges of diagnosing coagulase-negative staphylococcal infections result in conflicting definitions and inconsistent clinical practice. Resistance to methicillin influences the choice of empirical therapy. \n",
      "\n",
      "Int J Antimicrob Agents\n",
      "Pharmacokinetic/pharmacodynamic evaluation of linezolid for the treatment of staphylococcal infections in critically ill patients.\n",
      "Dong Haiyan, Xie Jiao, Wang Taotao, Chen Lihong, Zeng Xiaoyan, Sun Jinyao, Wang Xue and Dong Yalin\n",
      "PMID: 27474469\n",
      "Abstract: Several studies have demonstrated that the ideal therapeutic effect of linezolid cannot be achieved in critically ill patients with the recommended standard dosing regimen of 600 mg every 12 h (q12h). Moreover, the optimal strategy for successful treatment is still lacking. This study analysed factors influencing the efficacy of linezolid treatment and determined the target for successful treatment by logistic regression in 27 critically ill patients with staphylococcal infection who received linezolid 600 mg q12h. The results showed that only the 24-h area under the concentration-time curve to minimum inhibitory concentration (AUC24/MIC) ratio was significantly associated with staphylococcal eradication. Reaching 80% bacterial eradication required an AUC24/MIC of 120.5, defining the therapeutic target. Different dosing regimens were evaluated using Monte Carlo simulation to determine the optimal dosage strategy for linezolid. Although the probability of target attainment (PTA) was high (>99.9%) for the standard dosing regimen at MIC ≤ 1 mg/L, the PTA was almost 0 at MIC = 2 mg/L, thus the dosing regimen required adjustment. In addition, if the dosing regimen was adjusted to 600 mg every 8 h or 600 mg every 6 h, the major staphylococci (except for MRSA and MSSA) exhibited a cumulative fraction of response of >80%, showing a higher treatment success. These findings indicate that a strategy of high linezolid dosage may be needed to increase the probability of successful treatment at MIC > 1 mg/L. The role of therapeutic drug monitoring should be encouraged for optimising linezolid exposure in critically ill patients. \n",
      "\n"
     ]
    }
   ],
   "source": [
    "for pmid, article in zip(id_list, articles):\n",
    "    try:\n",
    "        journal = article['MedlineCitation']['MedlineJournalInfo']['MedlineTA']\n",
    "    except:\n",
    "        journal = None\n",
    "    try:\n",
    "        title = article['MedlineCitation']['Article']['ArticleTitle']\n",
    "    except:\n",
    "        title = None\n",
    "    try:\n",
    "        author_list = article['MedlineCitation']['Article']['AuthorList']\n",
    "        author_list = [authors['LastName'] + ' ' + authors['ForeName'] for authors in author_list]\n",
    "        if len(author_list) < 2:\n",
    "            authors = ', '.join(author_list)\n",
    "        else:\n",
    "            authors = ', '.join(author_list[:-1]) + ' and ' + author_list[-1]\n",
    "    except:\n",
    "        authors = None\n",
    "    try:\n",
    "        abstract = article['MedlineCitation']['Article']['Abstract']['AbstractText'][0]\n",
    "    except:\n",
    "        abstract = None\n",
    "        \n",
    "    print(journal)\n",
    "    print(title)\n",
    "    print(authors)\n",
    "    print('PMID:', pmid)\n",
    "    print('Abstract:', abstract)\n",
    "    print('')"
   ]
  },
  {
   "cell_type": "code",
   "execution_count": null,
   "metadata": {},
   "outputs": [],
   "source": []
  }
 ],
 "metadata": {
  "kernelspec": {
   "display_name": "Python 3",
   "language": "python",
   "name": "python3"
  },
  "language_info": {
   "codemirror_mode": {
    "name": "ipython",
    "version": 3
   },
   "file_extension": ".py",
   "mimetype": "text/x-python",
   "name": "python",
   "nbconvert_exporter": "python",
   "pygments_lexer": "ipython3",
   "version": "3.7.3"
  }
 },
 "nbformat": 4,
 "nbformat_minor": 2
}
