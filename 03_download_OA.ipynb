{
 "cells": [
  {
   "cell_type": "markdown",
   "metadata": {},
   "source": [
    "**Purpose:** Download and get familiar with part of the open access data."
   ]
  },
  {
   "cell_type": "code",
   "execution_count": 1,
   "metadata": {},
   "outputs": [],
   "source": [
    "# !mkdir ./data\n",
    "# !wget ftp://ftp.ncbi.nlm.nih.gov/pub/pmc/oa_bulk/comm_use.A-B.xml.tar.gz\n",
    "# !tar -xzf comm_use.A-B.xml.tar.gz --directory data/"
   ]
  },
  {
   "cell_type": "code",
   "execution_count": 2,
   "metadata": {},
   "outputs": [],
   "source": [
    "import os\n",
    "import pubmed_parser as pp\n",
    "import numpy as np"
   ]
  },
  {
   "cell_type": "code",
   "execution_count": 3,
   "metadata": {},
   "outputs": [],
   "source": [
    "path_all = pp.list_xml_path('data/')"
   ]
  },
  {
   "cell_type": "code",
   "execution_count": 4,
   "metadata": {},
   "outputs": [],
   "source": [
    "test_path = 'data/Alzheimers_Res_Ther/PMC6387558.nxml'"
   ]
  },
  {
   "cell_type": "code",
   "execution_count": 5,
   "metadata": {},
   "outputs": [],
   "source": [
    "def get_authors(author_list):\n",
    "    author_arr = np.char.array(author_list)[:, :-1]\n",
    "    name_arr = author_arr[:, 1] + ' ' + author_arr[:, 0]\n",
    "    _, idx = np.unique(name_arr, return_index = True)\n",
    "    authors = ', '.join(name_arr[np.sort(idx)][:2]) + ', et al.'\n",
    "    return authors"
   ]
  },
  {
   "cell_type": "code",
   "execution_count": 6,
   "metadata": {},
   "outputs": [],
   "source": [
    "def get_cover(path):\n",
    "    article = pp.parse_pubmed_xml(path)\n",
    "    title = article['full_title']\n",
    "    authors = get_authors(article['author_list'])\n",
    "    journal = article['journal']\n",
    "    year = article['publication_year']\n",
    "    info = authors + ' ' + journal + ' ' + year\n",
    "    return title, info"
   ]
  },
  {
   "cell_type": "code",
   "execution_count": 7,
   "metadata": {},
   "outputs": [],
   "source": [
    "def get_abstract(path):\n",
    "    article = pp.parse_pubmed_xml(path)\n",
    "    abstract = article['abstract']\n",
    "    return abstract"
   ]
  },
  {
   "cell_type": "code",
   "execution_count": 8,
   "metadata": {},
   "outputs": [],
   "source": [
    "query = 'glucose'"
   ]
  },
  {
   "cell_type": "code",
   "execution_count": 9,
   "metadata": {
    "scrolled": true
   },
   "outputs": [
    {
     "name": "stdout",
     "output_type": "stream",
     "text": [
      "Changes in cerebral glucose metabolism after 3 weeks of noninvasive electrical stimulation of mild cognitive impairment patients\n",
      "Kyongsik Yun, In-Uk Song, et al. Alzheimer's Research & Therapy 2016\n",
      "data/Alzheimers_Res_Ther/PMC5131431.nxml\n",
      "\n",
      "Peripheral apoE isoform levels in cognitively normal  APOE  ε3/ε4 individuals are associated with regional gray matter volume and cerebral glucose metabolism\n",
      "Henrietta M. Nielsen, Kewei Chen, et al. Alzheimer's Research & Therapy 2017\n",
      "data/Alzheimers_Res_Ther/PMC5282900.nxml\n",
      "\n",
      "Thiamine diphosphate reduction strongly correlates with brain glucose hypometabolism in Alzheimer’s disease, whereas amyloid deposition does not\n",
      "Shaoming Sang, Xiaoli Pan, et al. Alzheimer's Research & Therapy 2018\n",
      "data/Alzheimers_Res_Ther/PMC5831864.nxml\n",
      "\n",
      "Association of cognitive function with glucose tolerance and trajectories of glucose tolerance over 12 years in the AusDiab study\n",
      "Kaarin J. Anstey, Kerry Sargent-Cox, et al. Alzheimer's Research & Therapy 2015\n",
      "data/Alzheimers_Res_Ther/PMC4499451.nxml\n",
      "\n",
      "Synergistic interaction between APOE and family history of Alzheimer’s disease on cerebral amyloid deposition and glucose metabolism\n",
      "Dahyun Yi, Younghwa Lee, et al. Alzheimer's Research & Therapy 2018\n",
      "data/Alzheimers_Res_Ther/PMC6106945.nxml\n",
      "\n",
      "Predicting amyloid status in corticobasal syndrome using modified clinical criteria, magnetic resonance imaging and fluorodeoxyglucose positron emission tomography\n",
      "Sharon J Sha, Pia M Ghosh, et al. Alzheimer's Research & Therapy 2015\n",
      "data/Alzheimers_Res_Ther/PMC4346122.nxml\n",
      "\n",
      "In vivo  molecular neuroimaging of glucose utilization and its association with fibrillar amyloid-β load in aged APPPS1-21 mice\n",
      "Ann-Marie Waldron, Cindy Wintmolders, et al. Alzheimer's Research & Therapy 2015\n",
      "data/Alzheimers_Res_Ther/PMC4678474.nxml\n",
      "\n",
      "Regional tau deposition measured by [ 18 F]THK5317 positron emission tomography is associated to cognition via glucose metabolism in Alzheimer’s disease\n",
      "Laure Saint-Aubert, Ove Almkvist, et al. Alzheimer's Research & Therapy 2016\n",
      "data/Alzheimers_Res_Ther/PMC5041516.nxml\n",
      "\n",
      "Brain glucose metabolism in Lewy body dementia: implications for diagnostic criteria\n",
      "Silvia Paola Caminiti, Arianna Sala, et al. Alzheimer's Research & Therapy 2019\n",
      "data/Alzheimers_Res_Ther/PMC6387558.nxml\n",
      "\n"
     ]
    }
   ],
   "source": [
    "# search for query in title\n",
    "\n",
    "for path in path_all:\n",
    "    title, info = get_cover(path)\n",
    "    if (query in title) or (query.capitalize() in title):\n",
    "        print(title)\n",
    "        print(info)\n",
    "        print(path)\n",
    "        print('')"
   ]
  },
  {
   "cell_type": "code",
   "execution_count": 10,
   "metadata": {
    "scrolled": true
   },
   "outputs": [
    {
     "name": "stdout",
     "output_type": "stream",
     "text": [
      "Oral curcumin for Alzheimer's disease: tolerability and efficacy in a 24-week randomized, double blind, placebo-controlled study\n",
      "John M Ringman, Sally A Frautschy, et al. Alzheimer's Research & Therapy 2012\n",
      "data/Alzheimers_Res_Ther/PMC3580400.nxml\n",
      "\n",
      "Amyloid positron emission tomography and cerebrospinal fluid results from a crenezumab anti-amyloid-beta antibody double-blind, placebo-controlled, randomized phase II study in mild-to-moderate Alzheimer’s disease (BLAZE)\n",
      "Stephen Salloway, Lee A. Honigberg, et al. Alzheimer's Research & Therapy 2018\n",
      "data/Alzheimers_Res_Ther/PMC6146627.nxml\n",
      "\n",
      "Late-stage Anle138b treatment ameliorates tau pathology and metabolic decline in a mouse model of human Alzheimer’s disease tau\n",
      "Matthias Brendel, Maximilian Deussing, et al. Alzheimer's Research & Therapy 2019\n",
      "data/Alzheimers_Res_Ther/PMC6670231.nxml\n",
      "\n",
      "Metabolic status of CSF distinguishes rats with tauopathy from controls\n",
      "Radana Karlíková, Kateřina Mičová, et al. Alzheimer's Research & Therapy 2017\n",
      "data/Alzheimers_Res_Ther/PMC5609022.nxml\n",
      "\n",
      "Changes in cerebral glucose metabolism after 3 weeks of noninvasive electrical stimulation of mild cognitive impairment patients\n",
      "Kyongsik Yun, In-Uk Song, et al. Alzheimer's Research & Therapy 2016\n",
      "data/Alzheimers_Res_Ther/PMC5131431.nxml\n",
      "\n",
      "FDG-PET as an independent biomarker for Alzheimer’s biological diagnosis: a longitudinal study\n",
      "Ya-Nan Ou, Wei Xu, et al. Alzheimer's Research & Therapy 2019\n",
      "data/Alzheimers_Res_Ther/PMC6599313.nxml\n",
      "\n",
      "Cognitive and imaging markers in non-demented subjects attending a memory clinic: study design and baseline findings of the MEMENTO cohort\n",
      "Carole Dufouil, Bruno Dubois, et al. Alzheimer's Research & Therapy 2017\n",
      "data/Alzheimers_Res_Ther/PMC5576287.nxml\n",
      "\n",
      "A phase Ib multiple ascending dose study of the safety, tolerability, and central nervous system availability of AZD0530 (saracatinib) in Alzheimer’s disease\n",
      "Haakon B Nygaard, Allison F Wagner, et al. Alzheimer's Research & Therapy 2015\n",
      "data/Alzheimers_Res_Ther/PMC4396171.nxml\n",
      "\n",
      "Peripheral apoE isoform levels in cognitively normal  APOE  ε3/ε4 individuals are associated with regional gray matter volume and cerebral glucose metabolism\n",
      "Henrietta M. Nielsen, Kewei Chen, et al. Alzheimer's Research & Therapy 2017\n",
      "data/Alzheimers_Res_Ther/PMC5282900.nxml\n",
      "\n",
      "Neuroprotective effects of D-Ala 2 GIP on Alzheimer's disease biomarkers in an APP/PS1 mouse model\n",
      "Emilie Faivre, Christian Hölscher, et al. Alzheimer's Research & Therapy 2013\n",
      "data/Alzheimers_Res_Ther/PMC3706793.nxml\n",
      "\n",
      "Variability in metabolic parameters and risk of dementia: a nationwide population-based study\n",
      "Seung-Hwan Lee, Kyungdo Han, et al. Alzheimer's Research & Therapy 2018\n",
      "data/Alzheimers_Res_Ther/PMC6204276.nxml\n",
      "\n",
      "The effect of amyloid deposition on longitudinal resting-state functional connectivity in cognitively normal older adults\n",
      "Chemin Lin, Maria Ly, et al. Alzheimer's Research & Therapy 2020\n",
      "data/Alzheimers_Res_Ther/PMC6945413.nxml\n",
      "\n",
      "Thiamine diphosphate reduction strongly correlates with brain glucose hypometabolism in Alzheimer’s disease, whereas amyloid deposition does not\n",
      "Shaoming Sang, Xiaoli Pan, et al. Alzheimer's Research & Therapy 2018\n",
      "data/Alzheimers_Res_Ther/PMC5831864.nxml\n",
      "\n",
      "Systemic and central nervous system metabolic alterations in Alzheimer’s disease\n",
      "Vera van der Velpen, Tony Teav, et al. Alzheimer's Research & Therapy 2019\n",
      "data/Alzheimers_Res_Ther/PMC6883620.nxml\n",
      "\n",
      "Metabolic correlates of reserve and resilience in MCI due to Alzheimer's Disease (AD)\n",
      "Matteo Bauckneht, Andrea Chincarini, et al. Alzheimer's Research & Therapy 2018\n",
      "data/Alzheimers_Res_Ther/PMC5883593.nxml\n",
      "\n",
      "Why could meditation practice help promote mental health and well-being in aging?\n",
      "Gaël Chételat, Antoine Lutz, et al. Alzheimer's Research & Therapy 2018\n",
      "data/Alzheimers_Res_Ther/PMC6015474.nxml\n",
      "\n",
      "Association of cognitive function with glucose tolerance and trajectories of glucose tolerance over 12 years in the AusDiab study\n",
      "Kaarin J. Anstey, Kerry Sargent-Cox, et al. Alzheimer's Research & Therapy 2015\n",
      "data/Alzheimers_Res_Ther/PMC4499451.nxml\n",
      "\n",
      "A biomarker study in long-lasting amnestic mild cognitive impairment\n",
      "Chiara Cerami, Alessandra Dodich, et al. Alzheimer's Research & Therapy 2018\n",
      "data/Alzheimers_Res_Ther/PMC5918759.nxml\n",
      "\n",
      "Clinical and imaging features of mixed Alzheimer and vascular pathologies\n",
      "Helena C Chui, Liliana Ramirez-Gomez, et al. Alzheimer's Research & Therapy 2015\n",
      "data/Alzheimers_Res_Ther/PMC4342006.nxml\n",
      "\n",
      "Reduced penetrance of the  PSEN1  H163Y autosomal dominant Alzheimer mutation: a 22-year follow-up study\n",
      "Steinunn Thordardottir, Elena Rodriguez-Vieitez, et al. Alzheimer's Research & Therapy 2018\n",
      "data/Alzheimers_Res_Ther/PMC5944151.nxml\n",
      "\n",
      "Associations of thyroid hormone serum levels with in-vivo Alzheimer’s disease pathologies\n",
      "Hyo Jung Choi, Min Soo Byun, et al. Alzheimer's Research & Therapy 2017\n",
      "data/Alzheimers_Res_Ther/PMC5561599.nxml\n",
      "\n",
      "Synergistic interaction between APOE and family history of Alzheimer’s disease on cerebral amyloid deposition and glucose metabolism\n",
      "Dahyun Yi, Younghwa Lee, et al. Alzheimer's Research & Therapy 2018\n",
      "data/Alzheimers_Res_Ther/PMC6106945.nxml\n",
      "\n",
      "Predicting amyloid status in corticobasal syndrome using modified clinical criteria, magnetic resonance imaging and fluorodeoxyglucose positron emission tomography\n",
      "Sharon J Sha, Pia M Ghosh, et al. Alzheimer's Research & Therapy 2015\n",
      "data/Alzheimers_Res_Ther/PMC4346122.nxml\n",
      "\n",
      "In vivo  molecular neuroimaging of glucose utilization and its association with fibrillar amyloid-β load in aged APPPS1-21 mice\n",
      "Ann-Marie Waldron, Cindy Wintmolders, et al. Alzheimer's Research & Therapy 2015\n",
      "data/Alzheimers_Res_Ther/PMC4678474.nxml\n",
      "\n",
      "Cross-sectional and longitudinal characterization of SCD patients recruited from the community versus from a memory clinic: subjective cognitive decline, psychoaffective factors, cognitive performances, and atrophy progression over time\n",
      "Elizabeth Kuhn, Inès Moulinet, et al. Alzheimer's Research & Therapy 2019\n",
      "data/Alzheimers_Res_Ther/PMC6615169.nxml\n",
      "\n",
      "Data-driven identification of endophenotypes of Alzheimer’s disease progression: implications for clinical trials and therapeutic interventions\n",
      "Nophar Geifman, Richard E. Kennedy, et al. Alzheimer's Research & Therapy 2018\n",
      "data/Alzheimers_Res_Ther/PMC6389228.nxml\n",
      "\n",
      "Sleep experiences during different lifetime periods and in vivo Alzheimer pathologies\n",
      "Young Min Choe, Min Soo Byun, et al. Alzheimer's Research & Therapy 2019\n",
      "data/Alzheimers_Res_Ther/PMC6739958.nxml\n",
      "\n",
      "Regional tau deposition measured by [ 18 F]THK5317 positron emission tomography is associated to cognition via glucose metabolism in Alzheimer’s disease\n",
      "Laure Saint-Aubert, Ove Almkvist, et al. Alzheimer's Research & Therapy 2016\n",
      "data/Alzheimers_Res_Ther/PMC5041516.nxml\n",
      "\n",
      "Brain metabolism and cerebrospinal fluid biomarkers profile of non-amnestic mild cognitive impairment in comparison to amnestic mild cognitive impairment and normal older subjects\n",
      "Artur M N Coutinho, Fábio H G Porto, et al. Alzheimer's Research & Therapy 2015\n",
      "data/Alzheimers_Res_Ther/PMC4572657.nxml\n",
      "\n",
      "Nrf2 activation through the PI3K/GSK-3 axis protects neuronal cells from Aβ-mediated oxidative and metabolic damage\n",
      "Krystal Sotolongo, Jorge Ghiso, et al. Alzheimer's Research & Therapy 2020\n",
      "data/Alzheimers_Res_Ther/PMC6958642.nxml\n",
      "\n",
      "Variation in fiberoptic bead-based oligonucleotide microarrays: dispersion characteristics among hybridization and biological replicate samples\n",
      "Jaroslav P Novak, Merrill C Miller, et al. Biology Direct 2006\n",
      "data/Biol_Direct/PMC1533816.nxml\n",
      "\n"
     ]
    }
   ],
   "source": [
    "# search for query in abstract but not title\n",
    "\n",
    "for path in path_all:\n",
    "    title, info = get_cover(path)\n",
    "    abstract = get_abstract(path)\n",
    "    if ((query in abstract) or (query.capitalize() in abstract)) and \\\n",
    "    ((not query in title) or (not query.capitalize() in title)):\n",
    "        print(title)\n",
    "        print(info)\n",
    "        print(path)\n",
    "        print('')"
   ]
  },
  {
   "cell_type": "code",
   "execution_count": null,
   "metadata": {},
   "outputs": [],
   "source": []
  }
 ],
 "metadata": {
  "kernelspec": {
   "display_name": "Python 3",
   "language": "python",
   "name": "python3"
  },
  "language_info": {
   "codemirror_mode": {
    "name": "ipython",
    "version": 3
   },
   "file_extension": ".py",
   "mimetype": "text/x-python",
   "name": "python",
   "nbconvert_exporter": "python",
   "pygments_lexer": "ipython3",
   "version": "3.7.3"
  }
 },
 "nbformat": 4,
 "nbformat_minor": 2
}
