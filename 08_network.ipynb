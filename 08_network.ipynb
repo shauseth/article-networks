{
 "cells": [
  {
   "cell_type": "markdown",
   "metadata": {},
   "source": [
    "**Purpose:** Make a network graph using the similarity function."
   ]
  },
  {
   "cell_type": "code",
   "execution_count": 1,
   "metadata": {},
   "outputs": [],
   "source": [
    "import os\n",
    "import string\n",
    "import pandas as pd\n",
    "import numpy as np\n",
    "import networkx as nx\n",
    "import pubmed_parser as pp\n",
    "import matplotlib.pyplot as plt\n",
    "from itertools import combinations\n",
    "from tqdm.notebook import tqdm"
   ]
  },
  {
   "cell_type": "code",
   "execution_count": 2,
   "metadata": {},
   "outputs": [],
   "source": [
    "pmids = [26016486, 25749135, 11983860, 21687533, 28828194]\n",
    "index = list(range(len(pmids)))"
   ]
  },
  {
   "cell_type": "code",
   "execution_count": 3,
   "metadata": {},
   "outputs": [],
   "source": [
    "def get_article(pmid):\n",
    "    article = pp.parse_xml_web(pmid, sleep = 1)\n",
    "    return article"
   ]
  },
  {
   "cell_type": "code",
   "execution_count": 4,
   "metadata": {},
   "outputs": [],
   "source": [
    "def print_article(article):\n",
    "    print(article['title'])\n",
    "    print(article['authors'])\n",
    "    print(article['journal'])\n",
    "    print('https://www.ncbi.nlm.nih.gov/pubmed/' + article['pmid'])"
   ]
  },
  {
   "cell_type": "code",
   "execution_count": 5,
   "metadata": {},
   "outputs": [],
   "source": [
    "def tokenize(words):\n",
    "    words = words.lower()\n",
    "    words = words.translate(str.maketrans('', '', string.punctuation))\n",
    "    tokens = words.split()\n",
    "    return np.array(tokens)"
   ]
  },
  {
   "cell_type": "code",
   "execution_count": 6,
   "metadata": {},
   "outputs": [],
   "source": [
    "def content_similarity(article1, article2, weights = (2, 1)):\n",
    "    title_arr1 = tokenize(article1['title'])\n",
    "    title_arr2 = tokenize(article2['title'])\n",
    "    title_ss = len(np.intersect1d(title_arr1, title_arr2))\n",
    "    \n",
    "    abstract_arr1 = tokenize(article1['abstract'])\n",
    "    abstract_arr2 = tokenize(article2['abstract'])\n",
    "    abstract_ss = len(np.intersect1d(abstract_arr1, abstract_arr2))\n",
    "    \n",
    "    content_arr = np.array([title_ss, abstract_ss])\n",
    "    content_weights = np.array(weights)\n",
    "    content_ss = np.dot(content_arr, content_weights)\n",
    "    return content_ss"
   ]
  },
  {
   "cell_type": "code",
   "execution_count": 7,
   "metadata": {},
   "outputs": [],
   "source": [
    "def keyword_similarity(article1, article2):\n",
    "    keyword_arr1 = np.array(article1['keywords'].split(';'))\n",
    "    keyword_arr2 = np.array(article2['keywords'].split(';'))\n",
    "    keyword_ss = len(np.intersect1d(keyword_arr1, keyword_arr2))\n",
    "    return keyword_ss"
   ]
  },
  {
   "cell_type": "code",
   "execution_count": 8,
   "metadata": {},
   "outputs": [],
   "source": [
    "def source_similarity(article1, article2, weights = (1, 1, 1)):\n",
    "    if article1['journal'] == article2['journal']:\n",
    "        journal_ss = 1\n",
    "    else:\n",
    "        journal_ss = 0\n",
    "        \n",
    "    affiliation_arr1 = np.array(article1['affiliation'].split(';'))\n",
    "    affiliation_arr2 = np.array(article2['affiliation'].split(';'))\n",
    "    affiliation_ss = len(np.intersect1d(affiliation_arr1, affiliation_arr2))\n",
    "    \n",
    "    author_arr1 = np.array(article1['authors'].split('; '))\n",
    "    author_arr2 = np.array(article2['authors'].split('; '))\n",
    "    author_ss = len(np.intersect1d(author_arr1, author_arr2))\n",
    "    \n",
    "    source_arr = np.array([journal_ss, affiliation_ss, author_ss])\n",
    "    source_weights = np.array(weights)\n",
    "    source_ss = np.dot(source_arr, source_weights)\n",
    "    return source_ss"
   ]
  },
  {
   "cell_type": "code",
   "execution_count": 9,
   "metadata": {},
   "outputs": [],
   "source": [
    "def similarity(article1, article2):\n",
    "    content_ss = content_similarity(article1, article2)\n",
    "    keyword_ss = keyword_similarity(article1, article2)\n",
    "    source_ss = source_similarity(article1, article2)\n",
    "    return content_ss, keyword_ss, source_ss"
   ]
  },
  {
   "cell_type": "code",
   "execution_count": 10,
   "metadata": {},
   "outputs": [],
   "source": [
    "def draw_graph(nodes, weighted_edges):\n",
    "    G = nx.Graph()\n",
    "    G.add_nodes_from(nodes)\n",
    "    G.add_weighted_edges_from(weighted_edges)\n",
    "    nx.draw_networkx(G, with_labels = True, node_color = 'silver')"
   ]
  },
  {
   "cell_type": "code",
   "execution_count": 11,
   "metadata": {},
   "outputs": [
    {
     "data": {
      "application/vnd.jupyter.widget-view+json": {
       "model_id": "895aa58ca1304b7fb2e051f2248b062d",
       "version_major": 2,
       "version_minor": 0
      },
      "text/plain": [
       "HBox(children=(FloatProgress(value=0.0, max=5.0), HTML(value='')))"
      ]
     },
     "metadata": {},
     "output_type": "display_data"
    },
    {
     "name": "stdout",
     "output_type": "stream",
     "text": [
      "\n"
     ]
    }
   ],
   "source": [
    "articles = [get_article(pmid) for pmid in tqdm(pmids)]"
   ]
  },
  {
   "cell_type": "code",
   "execution_count": 12,
   "metadata": {},
   "outputs": [],
   "source": [
    "content_scores, keyword_scores, source_scores = [], [], []\n",
    "content_pairs, keyword_pairs, source_pairs = [], [], []\n",
    "\n",
    "for x, y in list(combinations(index, 2)):\n",
    "    article1, article2 = articles[x], articles[y]\n",
    "    content_ss, keyword_ss, source_ss = similarity(article1, article2)\n",
    "\n",
    "    if content_ss != 0:\n",
    "        content_scores.append(content_ss)\n",
    "        content_pairs.append([x, y])\n",
    "    \n",
    "    if keyword_ss != 0:\n",
    "        keyword_scores.append(keyword_ss)\n",
    "        keyword_pairs.append([x, y])\n",
    "    \n",
    "    if source_ss != 0:\n",
    "        source_scores.append(source_ss)\n",
    "        source_pairs.append([x, y])"
   ]
  },
  {
   "cell_type": "code",
   "execution_count": 13,
   "metadata": {},
   "outputs": [],
   "source": [
    "content_pairs_arr = np.array(content_pairs)\n",
    "keyword_pairs_arr = np.array(keyword_pairs)\n",
    "source_pairs_arr = np.array(source_pairs)\n",
    "\n",
    "content_scores_arr = np.array(content_scores).reshape(-1, 1)\n",
    "keyword_scores_arr = np.array(keyword_scores).reshape(-1, 1)\n",
    "source_scores_arr = np.array(source_scores).reshape(-1, 1)\n",
    "\n",
    "content_we = np.concatenate((content_pairs_arr, content_scores_arr), axis = 1)\n",
    "keyword_we = np.concatenate((keyword_pairs_arr, keyword_scores_arr), axis = 1)\n",
    "source_we = np.concatenate((source_pairs_arr, source_scores_arr), axis = 1)"
   ]
  },
  {
   "cell_type": "code",
   "execution_count": 14,
   "metadata": {
    "scrolled": true
   },
   "outputs": [
    {
     "name": "stdout",
     "output_type": "stream",
     "text": [
      "0\n",
      "Staphylococcus aureus infections: epidemiology, pathophysiology, clinical manifestations, and management.\n",
      "Steven Y C Tong; Joshua S Davis; Emily Eichenberger; Thomas L Holland; Vance G Fowler\n",
      "Clinical microbiology reviews\n",
      "https://www.ncbi.nlm.nih.gov/pubmed/26016486\n",
      "\n",
      "1\n",
      "Pathogenesis of Staphylococcus aureus abscesses.\n",
      "Scott D Kobayashi; Natalia Malachowa; Frank R DeLeo\n",
      "The American journal of pathology\n",
      "https://www.ncbi.nlm.nih.gov/pubmed/25749135\n",
      "\n",
      "2\n",
      "Global changes in gene expression by human polymorphonuclear leukocytes during receptor-mediated phagocytosis: cell fate is regulated at the level of gene expression.\n",
      "Scott D Kobayashi; Jovanka M Voyich; Cassandra L Buhl; Robert M Stahl; Frank R DeLeo\n",
      "Proceedings of the National Academy of Sciences of the United States of America\n",
      "https://www.ncbi.nlm.nih.gov/pubmed/11983860\n",
      "\n",
      "3\n",
      "Phages in nature.\n",
      "Martha Rj Clokie; Andrew D Millard; Andrey V Letarov; Shaun Heaphy\n",
      "Bacteriophage\n",
      "https://www.ncbi.nlm.nih.gov/pubmed/21687533\n",
      "\n",
      "4\n",
      "Phage therapy: An alternative to antibiotics in the age of multi-drug resistance.\n",
      "Derek M Lin; Britt Koskella; Henry C Lin\n",
      "World journal of gastrointestinal pharmacology and therapeutics\n",
      "https://www.ncbi.nlm.nih.gov/pubmed/28828194\n",
      "\n"
     ]
    }
   ],
   "source": [
    "for i, article in enumerate(articles):\n",
    "    print(i)\n",
    "    print_article(article)\n",
    "    print('')"
   ]
  },
  {
   "cell_type": "code",
   "execution_count": 15,
   "metadata": {},
   "outputs": [
    {
     "data": {
      "image/png": "[encoded data removed]",
      "text/plain": [
       "<Figure size 432x288 with 1 Axes>"
      ]
     },
     "metadata": {},
     "output_type": "display_data"
    }
   ],
   "source": [
    "draw_graph(index, content_we) # content similarity network"
   ]
  },
  {
   "cell_type": "code",
   "execution_count": 16,
   "metadata": {},
   "outputs": [
    {
     "data": {
      "image/png": "[encoded data removed]",
      "text/plain": [
       "<Figure size 432x288 with 1 Axes>"
      ]
     },
     "metadata": {},
     "output_type": "display_data"
    }
   ],
   "source": [
    "draw_graph(index, keyword_we) # keyword similarity network"
   ]
  },
  {
   "cell_type": "code",
   "execution_count": 17,
   "metadata": {},
   "outputs": [
    {
     "data": {
      "image/png": "[encoded data removed]",
      "text/plain": [
       "<Figure size 432x288 with 1 Axes>"
      ]
     },
     "metadata": {},
     "output_type": "display_data"
    }
   ],
   "source": [
    "draw_graph(index, source_we) # source similarity network"
   ]
  },
  {
   "cell_type": "code",
   "execution_count": null,
   "metadata": {},
   "outputs": [],
   "source": []
  }
 ],
 "metadata": {
  "kernelspec": {
   "display_name": "Python 3",
   "language": "python",
   "name": "python3"
  },
  "language_info": {
   "codemirror_mode": {
    "name": "ipython",
    "version": 3
   },
   "file_extension": ".py",
   "mimetype": "text/x-python",
   "name": "python",
   "nbconvert_exporter": "python",
   "pygments_lexer": "ipython3",
   "version": "3.7.3"
  }
 },
 "nbformat": 4,
 "nbformat_minor": 2
}
